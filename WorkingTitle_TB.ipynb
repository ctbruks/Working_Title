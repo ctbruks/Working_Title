{
 "cells": [
  {
   "cell_type": "code",
   "execution_count": 211,
   "metadata": {
    "collapsed": true
   },
   "outputs": [],
   "source": [
    "import pandas as pd\n",
    "import json\n",
    "import requests as req\n",
    "import datetime as dt\n",
    "import matplotlib.pyplot as plt\n",
    "import numpy as np\n",
    "import time"
   ]
  },
  {
   "cell_type": "code",
   "execution_count": 212,
   "metadata": {
    "scrolled": true
   },
   "outputs": [
    {
     "data": {
      "text/plain": [
       "pandas.core.series.Series"
      ]
     },
     "execution_count": 212,
     "metadata": {},
     "output_type": "execute_result"
    }
   ],
   "source": [
    "movie_df = pd.read_csv('movie_df.csv') #low_memory=False\n",
    "\n",
    "movie_df['release_date'] = pd.to_datetime(movie_df['release_date'])\n",
    "\n",
    "movie_df = movie_df[movie_df[\"release_date\"] > '2007']\n",
    "\n",
    "del movie_df['budget']\n",
    "del movie_df['Unnamed: 0']\n",
    "#del movie_df['vote_average']\n",
    "#del merge_df['vote_count']\n",
    "\n",
    "movie_df = movie_df[movie_df.revenue != 0.0]\n",
    "movie_df = movie_df.head(25)\n",
    "type(movie_df['genres'])"
   ]
  },
  {
   "cell_type": "code",
   "execution_count": 213,
   "metadata": {},
   "outputs": [
    {
     "data": {
      "text/plain": [
       "'Freedom Writers'"
      ]
     },
     "execution_count": 213,
     "metadata": {},
     "output_type": "execute_result"
    }
   ],
   "source": [
    "url = \"http://www.omdbapi.com/?i=tt0463998\"\n",
    "answer = req.get(url+\"&apikey=cfcaac6e\")\n",
    "answer = answer.json()\n",
    "answer['Title']"
   ]
  },
  {
   "cell_type": "code",
   "execution_count": 214,
   "metadata": {},
   "outputs": [],
   "source": [
    "url = \"http://www.omdbapi.com/?i=\"\n",
    "rating_list = []\n",
    "for ID in movie_df['imdb_id']:\n",
    "    response = req.get(url+ID+\"&apikey=cfcaac6e\")\n",
    "    response = response.json()\n",
    "    #response.keys()    \n",
    "    #print(response['Title'])\n",
    "    final_response = (response['Title'],\n",
    "               response['imdbRating'],\n",
    "               response['imdbVotes'])\n",
    "    #print(final_response)\n",
    "    rating_list.append(final_response)\n",
    "    #time.sleep(5)\n"
   ]
  },
  {
   "cell_type": "code",
   "execution_count": 215,
   "metadata": {},
   "outputs": [],
   "source": [
    "ratings = pd.DataFrame(rating_list, columns = ('title','rating','rating count'))"
   ]
  },
  {
   "cell_type": "code",
   "execution_count": 223,
   "metadata": {},
   "outputs": [
    {
     "data": {
      "text/html": [
       "<div>\n",
       "<style>\n",
       "    .dataframe thead tr:only-child th {\n",
       "        text-align: right;\n",
       "    }\n",
       "\n",
       "    .dataframe thead th {\n",
       "        text-align: left;\n",
       "    }\n",
       "\n",
       "    .dataframe tbody tr th {\n",
       "        vertical-align: top;\n",
       "    }\n",
       "</style>\n",
       "<table border=\"1\" class=\"dataframe\">\n",
       "  <thead>\n",
       "    <tr style=\"text-align: right;\">\n",
       "      <th></th>\n",
       "      <th>belongs_to_collection</th>\n",
       "      <th>genres</th>\n",
       "      <th>id</th>\n",
       "      <th>imdb_id</th>\n",
       "      <th>original_language</th>\n",
       "      <th>overview</th>\n",
       "      <th>release_date</th>\n",
       "      <th>revenue</th>\n",
       "      <th>title</th>\n",
       "      <th>vote_average</th>\n",
       "      <th>vote_count</th>\n",
       "      <th>rating</th>\n",
       "      <th>rating count</th>\n",
       "    </tr>\n",
       "  </thead>\n",
       "  <tbody>\n",
       "    <tr>\n",
       "      <th>0</th>\n",
       "      <td>NaN</td>\n",
       "      <td>Adventure</td>\n",
       "      <td>77221.0</td>\n",
       "      <td>tt1701210</td>\n",
       "      <td>en</td>\n",
       "      <td>On the Arabian Peninsula in the 1930s, two war...</td>\n",
       "      <td>2011-12-21</td>\n",
       "      <td>5446000.0</td>\n",
       "      <td>Black Gold</td>\n",
       "      <td>5.9</td>\n",
       "      <td>77.0</td>\n",
       "      <td>NaN</td>\n",
       "      <td>NaN</td>\n",
       "    </tr>\n",
       "    <tr>\n",
       "      <th>1</th>\n",
       "      <td>NaN</td>\n",
       "      <td>Crime</td>\n",
       "      <td>1646.0</td>\n",
       "      <td>tt0463998</td>\n",
       "      <td>en</td>\n",
       "      <td>A young teacher inspires her class of at-risk ...</td>\n",
       "      <td>2007-01-05</td>\n",
       "      <td>41170784.0</td>\n",
       "      <td>Freedom Writers</td>\n",
       "      <td>7.6</td>\n",
       "      <td>368.0</td>\n",
       "      <td>7.5</td>\n",
       "      <td>57,032</td>\n",
       "    </tr>\n",
       "    <tr>\n",
       "      <th>2</th>\n",
       "      <td>NaN</td>\n",
       "      <td>Action</td>\n",
       "      <td>14396.0</td>\n",
       "      <td>tt0462229</td>\n",
       "      <td>en</td>\n",
       "      <td>Cedric the Entertainer plays Jake, a seemingly...</td>\n",
       "      <td>2007-01-05</td>\n",
       "      <td>10337477.0</td>\n",
       "      <td>Code Name: The Cleaner</td>\n",
       "      <td>4.7</td>\n",
       "      <td>78.0</td>\n",
       "      <td>4.5</td>\n",
       "      <td>10,275</td>\n",
       "    </tr>\n",
       "    <tr>\n",
       "      <th>3</th>\n",
       "      <td>{'id': 160727, 'name': 'Stomp the Yard Collect...</td>\n",
       "      <td>Drama</td>\n",
       "      <td>1931.0</td>\n",
       "      <td>tt0775539</td>\n",
       "      <td>en</td>\n",
       "      <td>After the death of his younger brother, a trou...</td>\n",
       "      <td>2007-05-16</td>\n",
       "      <td>75511123.0</td>\n",
       "      <td>Stomp the Yard</td>\n",
       "      <td>6.1</td>\n",
       "      <td>90.0</td>\n",
       "      <td>5.3</td>\n",
       "      <td>20,269</td>\n",
       "    </tr>\n",
       "    <tr>\n",
       "      <th>4</th>\n",
       "      <td>NaN</td>\n",
       "      <td>Adventure</td>\n",
       "      <td>4283.0</td>\n",
       "      <td>tt0772193</td>\n",
       "      <td>en</td>\n",
       "      <td>A news team is sent to Burundi to capture and ...</td>\n",
       "      <td>2007-01-12</td>\n",
       "      <td>10597734.0</td>\n",
       "      <td>Primeval</td>\n",
       "      <td>4.7</td>\n",
       "      <td>45.0</td>\n",
       "      <td>4.7</td>\n",
       "      <td>11,640</td>\n",
       "    </tr>\n",
       "  </tbody>\n",
       "</table>\n",
       "</div>"
      ],
      "text/plain": [
       "                               belongs_to_collection     genres       id  \\\n",
       "0                                                NaN  Adventure  77221.0   \n",
       "1                                                NaN      Crime   1646.0   \n",
       "2                                                NaN     Action  14396.0   \n",
       "3  {'id': 160727, 'name': 'Stomp the Yard Collect...      Drama   1931.0   \n",
       "4                                                NaN  Adventure   4283.0   \n",
       "\n",
       "     imdb_id original_language  \\\n",
       "0  tt1701210                en   \n",
       "1  tt0463998                en   \n",
       "2  tt0462229                en   \n",
       "3  tt0775539                en   \n",
       "4  tt0772193                en   \n",
       "\n",
       "                                            overview release_date     revenue  \\\n",
       "0  On the Arabian Peninsula in the 1930s, two war...   2011-12-21   5446000.0   \n",
       "1  A young teacher inspires her class of at-risk ...   2007-01-05  41170784.0   \n",
       "2  Cedric the Entertainer plays Jake, a seemingly...   2007-01-05  10337477.0   \n",
       "3  After the death of his younger brother, a trou...   2007-05-16  75511123.0   \n",
       "4  A news team is sent to Burundi to capture and ...   2007-01-12  10597734.0   \n",
       "\n",
       "                    title  vote_average  vote_count rating rating count  \n",
       "0              Black Gold           5.9        77.0    NaN          NaN  \n",
       "1         Freedom Writers           7.6       368.0    7.5       57,032  \n",
       "2  Code Name: The Cleaner           4.7        78.0    4.5       10,275  \n",
       "3          Stomp the Yard           6.1        90.0    5.3       20,269  \n",
       "4                Primeval           4.7        45.0    4.7       11,640  "
      ]
     },
     "execution_count": 223,
     "metadata": {},
     "output_type": "execute_result"
    }
   ],
   "source": [
    "merge_df = pd.merge(movie_df, ratings, how = 'outer', on = 'title')\n",
    "merge_df['genres']= merge_df['genres'].fillna(\"[{'name':''}]\")\n",
    "merge_df['genres']= merge_df['genres'].apply(lambda x:eval(x)[0]['name'])   #read up \n",
    "\n",
    "merge_df.head()"
   ]
  },
  {
   "cell_type": "code",
   "execution_count": 280,
   "metadata": {},
   "outputs": [
    {
     "data": {
      "image/png": "[encoded data removed]",
      "text/plain": [
       "<matplotlib.figure.Figure at 0x1175c04a8>"
      ]
     },
     "metadata": {},
     "output_type": "display_data"
    }
   ],
   "source": [
    "genres_list = [ 'Adventure', 'Action', 'Animation', 'Comedy', 'Crime', 'Documentary', 'Drama',\n",
    "               'Family', 'Fantasy', 'History', 'Horror', 'Music', 'Mystery', 'Romance', 'Science Fiction',\n",
    "               'TV Movie', 'Thriller', 'War', 'Western']\n",
    "\n",
    "merge_df['rating'] = merge_df['rating'].astype('float')\n",
    "\n",
    "new_merge = merge_df[merge_df['genres'].isin(genres_list)]\n",
    "new_merge       \n",
    "\n",
    "y = new_merge['rating'].groupby(new_merge['genres']).mean()\n",
    "y = y.sort_values(ascending=True)\n",
    "\n",
    "plt.figure(figsize=(15,10))\n",
    "y.plot(kind=\"barh\")\n",
    "plt.title('Most Popular Genres by Movie Rating')\n",
    "plt.ylabel('Genres')\n",
    "plt.xlabel('IMDB Rating')\n",
    "\n",
    "plt.savefig(\"Most Popular Genres by Movie Rating.png\")\n",
    "plt.show()\n",
    "\n",
    "\n"
   ]
  }
 ],
 "metadata": {
  "kernelspec": {
   "display_name": "Python [default]",
   "language": "python",
   "name": "python3"
  },
  "language_info": {
   "codemirror_mode": {
    "name": "ipython",
    "version": 3
   },
   "file_extension": ".py",
   "mimetype": "text/x-python",
   "name": "python",
   "nbconvert_exporter": "python",
   "pygments_lexer": "ipython3",
   "version": "3.6.1"
  }
 },
 "nbformat": 4,
 "nbformat_minor": 2
}

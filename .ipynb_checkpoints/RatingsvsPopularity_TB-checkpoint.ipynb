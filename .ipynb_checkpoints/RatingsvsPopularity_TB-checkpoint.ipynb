{
 "cells": [
  {
   "cell_type": "code",
   "execution_count": 352,
   "metadata": {
    "collapsed": true
   },
   "outputs": [],
   "source": [
    "import pandas as pd\n",
    "import json\n",
    "import requests as req\n",
    "import datetime as dt\n",
    "import matplotlib.pyplot as plt\n",
    "import numpy as np\n",
    "import time"
   ]
  },
  {
   "cell_type": "code",
   "execution_count": 361,
   "metadata": {
    "scrolled": true
   },
   "outputs": [
    {
     "data": {
      "text/plain": [
       "2451"
      ]
     },
     "execution_count": 361,
     "metadata": {},
     "output_type": "execute_result"
    }
   ],
   "source": [
    "movie_df = pd.read_csv('movie_df.csv') #low_memory=False\n",
    "#movie_df = movie_df.head(50)   ######\n",
    "movie_df['release_date'] = pd.to_datetime(movie_df['release_date'])\n",
    "\n",
    "movie_df = movie_df[movie_df[\"release_date\"] > '2007']\n",
    "\n",
    "del movie_df['budget']\n",
    "del movie_df['Unnamed: 0']\n",
    "del movie_df['vote_average']\n",
    "del movie_df['vote_count']\n",
    "\n",
    "movie_df = movie_df[movie_df.revenue != 0.0]\n",
    "len(movie_df)"
   ]
  },
  {
   "cell_type": "code",
   "execution_count": 363,
   "metadata": {},
   "outputs": [],
   "source": [
    "url = \"http://www.omdbapi.com/?i=\"\n",
    "rating_list = []\n",
    "for ID in movie_df['imdb_id']:\n",
    "    response = req.get(url+ID+\"&apikey=trilogy\").json()\n",
    "\n",
    "    final_response = (response['Title'],\n",
    "               response['imdbRating'],\n",
    "               response['imdbVotes'],\n",
    "                      response['Genre'])\n",
    "    rating_list.append(final_response)\n"
   ]
  },
  {
   "cell_type": "code",
   "execution_count": 364,
   "metadata": {
    "collapsed": true
   },
   "outputs": [],
   "source": [
    "ratings = pd.DataFrame(rating_list, columns = ('title','rating','rating count', 'Genre'))"
   ]
  },
  {
   "cell_type": "code",
   "execution_count": 366,
   "metadata": {},
   "outputs": [
    {
     "data": {
      "text/html": [
       "<div>\n",
       "<style>\n",
       "    .dataframe thead tr:only-child th {\n",
       "        text-align: right;\n",
       "    }\n",
       "\n",
       "    .dataframe thead th {\n",
       "        text-align: left;\n",
       "    }\n",
       "\n",
       "    .dataframe tbody tr th {\n",
       "        vertical-align: top;\n",
       "    }\n",
       "</style>\n",
       "<table border=\"1\" class=\"dataframe\">\n",
       "  <thead>\n",
       "    <tr style=\"text-align: right;\">\n",
       "      <th></th>\n",
       "      <th>title</th>\n",
       "      <th>rating</th>\n",
       "      <th>rating count</th>\n",
       "      <th>genre</th>\n",
       "    </tr>\n",
       "  </thead>\n",
       "  <tbody>\n",
       "    <tr>\n",
       "      <th>0</th>\n",
       "      <td>Day of the Falcon</td>\n",
       "      <td>6.7</td>\n",
       "      <td>9,810</td>\n",
       "      <td>Adventure</td>\n",
       "    </tr>\n",
       "    <tr>\n",
       "      <th>1</th>\n",
       "      <td>Freedom Writers</td>\n",
       "      <td>7.5</td>\n",
       "      <td>57,032</td>\n",
       "      <td>Biography</td>\n",
       "    </tr>\n",
       "    <tr>\n",
       "      <th>2</th>\n",
       "      <td>Code Name: The Cleaner</td>\n",
       "      <td>4.5</td>\n",
       "      <td>10,275</td>\n",
       "      <td>Action</td>\n",
       "    </tr>\n",
       "  </tbody>\n",
       "</table>\n",
       "</div>"
      ],
      "text/plain": [
       "                    title rating rating count      genre\n",
       "0       Day of the Falcon    6.7        9,810  Adventure\n",
       "1         Freedom Writers    7.5       57,032  Biography\n",
       "2  Code Name: The Cleaner    4.5       10,275     Action"
      ]
     },
     "execution_count": 366,
     "metadata": {},
     "output_type": "execute_result"
    }
   ],
   "source": [
    "my_ratings = []\n",
    "for i in ratings['Genre']:\n",
    "   help = i.split(',')\n",
    "   my_ratings.append((help[0]))\n",
    "my_ratings\n",
    "\n",
    "#del movie_df['Rating Count']\n",
    "movie_df.reset_index(drop=True,inplace=True)\n",
    "ratings['genre'] = my_ratings\n",
    "#del ratings['Genre']\n",
    "ratings.head(3)"
   ]
  },
  {
   "cell_type": "code",
   "execution_count": 368,
   "metadata": {},
   "outputs": [
    {
     "data": {
      "text/html": [
       "<div>\n",
       "<style>\n",
       "    .dataframe thead tr:only-child th {\n",
       "        text-align: right;\n",
       "    }\n",
       "\n",
       "    .dataframe thead th {\n",
       "        text-align: left;\n",
       "    }\n",
       "\n",
       "    .dataframe tbody tr th {\n",
       "        vertical-align: top;\n",
       "    }\n",
       "</style>\n",
       "<table border=\"1\" class=\"dataframe\">\n",
       "  <thead>\n",
       "    <tr style=\"text-align: right;\">\n",
       "      <th></th>\n",
       "      <th>belongs_to_collection</th>\n",
       "      <th>id</th>\n",
       "      <th>imdb_id</th>\n",
       "      <th>original_language</th>\n",
       "      <th>overview</th>\n",
       "      <th>release_date</th>\n",
       "      <th>revenue</th>\n",
       "      <th>title</th>\n",
       "      <th>rating</th>\n",
       "      <th>rating count</th>\n",
       "      <th>genre</th>\n",
       "    </tr>\n",
       "  </thead>\n",
       "  <tbody>\n",
       "    <tr>\n",
       "      <th>0</th>\n",
       "      <td>NaN</td>\n",
       "      <td>1646</td>\n",
       "      <td>tt0463998</td>\n",
       "      <td>en</td>\n",
       "      <td>A young teacher inspires her class of at-risk ...</td>\n",
       "      <td>2007-01-05</td>\n",
       "      <td>41170784.0</td>\n",
       "      <td>Freedom Writers</td>\n",
       "      <td>7.5</td>\n",
       "      <td>57,032</td>\n",
       "      <td>Biography</td>\n",
       "    </tr>\n",
       "    <tr>\n",
       "      <th>1</th>\n",
       "      <td>NaN</td>\n",
       "      <td>14396</td>\n",
       "      <td>tt0462229</td>\n",
       "      <td>en</td>\n",
       "      <td>Cedric the Entertainer plays Jake, a seemingly...</td>\n",
       "      <td>2007-01-05</td>\n",
       "      <td>10337477.0</td>\n",
       "      <td>Code Name: The Cleaner</td>\n",
       "      <td>4.5</td>\n",
       "      <td>10,275</td>\n",
       "      <td>Action</td>\n",
       "    </tr>\n",
       "    <tr>\n",
       "      <th>2</th>\n",
       "      <td>{'id': 160727, 'name': 'Stomp the Yard Collect...</td>\n",
       "      <td>1931</td>\n",
       "      <td>tt0775539</td>\n",
       "      <td>en</td>\n",
       "      <td>After the death of his younger brother, a trou...</td>\n",
       "      <td>2007-05-16</td>\n",
       "      <td>75511123.0</td>\n",
       "      <td>Stomp the Yard</td>\n",
       "      <td>5.3</td>\n",
       "      <td>20,269</td>\n",
       "      <td>Drama</td>\n",
       "    </tr>\n",
       "  </tbody>\n",
       "</table>\n",
       "</div>"
      ],
      "text/plain": [
       "                               belongs_to_collection     id    imdb_id  \\\n",
       "0                                                NaN   1646  tt0463998   \n",
       "1                                                NaN  14396  tt0462229   \n",
       "2  {'id': 160727, 'name': 'Stomp the Yard Collect...   1931  tt0775539   \n",
       "\n",
       "  original_language                                           overview  \\\n",
       "0                en  A young teacher inspires her class of at-risk ...   \n",
       "1                en  Cedric the Entertainer plays Jake, a seemingly...   \n",
       "2                en  After the death of his younger brother, a trou...   \n",
       "\n",
       "  release_date     revenue                   title rating rating count  \\\n",
       "0   2007-01-05  41170784.0         Freedom Writers    7.5       57,032   \n",
       "1   2007-01-05  10337477.0  Code Name: The Cleaner    4.5       10,275   \n",
       "2   2007-05-16  75511123.0          Stomp the Yard    5.3       20,269   \n",
       "\n",
       "       genre  \n",
       "0  Biography  \n",
       "1     Action  \n",
       "2      Drama  "
      ]
     },
     "execution_count": 368,
     "metadata": {},
     "output_type": "execute_result"
    }
   ],
   "source": [
    "merge_df = pd.merge(movie_df, ratings, on = 'title')\n",
    "del merge_df['genres']\n",
    "merge_df.head(3)"
   ]
  },
  {
   "cell_type": "code",
   "execution_count": 372,
   "metadata": {},
   "outputs": [
    {
     "data": {
      "image/png": "[encoded data removed]",
      "text/plain": [
       "<matplotlib.figure.Figure at 0x11223a208>"
      ]
     },
     "metadata": {},
     "output_type": "display_data"
    }
   ],
   "source": [
    "genres_list = [ 'Adventure', 'Action', 'Animation', 'Comedy', 'Crime', 'Documentary', 'Drama',\n",
    "               'Family', 'Fantasy', 'History', 'Horror', 'Music', 'Mystery', 'Romance', 'Science Fiction',\n",
    "               'TV Movie', 'Thriller', 'War', 'Western']\n",
    "\n",
    "merge_df['rating'] = merge_df['rating'].astype('float')\n",
    "\n",
    "new_merge = merge_df[merge_df['genre'].isin(genres_list)]\n",
    "new_merge       \n",
    "\n",
    "y = new_merge['rating'].groupby(new_merge['genre']).mean()\n",
    "y = y.sort_values(ascending=True)\n",
    "\n",
    "colors = plt.cm.rainbow(np.linspace(0, 1, len(genres_list)))\n",
    "\n",
    "y.plot(kind=\"barh\", figsize = (15,10), color=colors)\n",
    "\n",
    "plt.title('Most Popular Genres by Movie Rating')\n",
    "plt.ylabel('Genres')\n",
    "plt.xlabel('IMDB Rating')\n",
    "\n",
    "plt.savefig(\"Most Popular Genres by Movie Rating.png\")\n",
    "plt.show()\n",
    "\n"
   ]
  },
  {
   "cell_type": "code",
   "execution_count": 373,
   "metadata": {},
   "outputs": [
    {
     "name": "stdout",
     "output_type": "stream",
     "text": [
      "[[  5.00000000e-01   0.00000000e+00   1.00000000e+00   1.00000000e+00]\n",
      " [  3.90196078e-01   1.71625679e-01   9.96283653e-01   1.00000000e+00]\n",
      " [  2.80392157e-01   3.38158275e-01   9.85162233e-01   1.00000000e+00]\n",
      " [  1.70588235e-01   4.94655843e-01   9.66718404e-01   1.00000000e+00]\n",
      " [  6.07843137e-02   6.36474236e-01   9.41089253e-01   1.00000000e+00]\n",
      " [  5.68627451e-02   7.67362681e-01   9.05873422e-01   1.00000000e+00]\n",
      " [  1.66666667e-01   8.66025404e-01   8.66025404e-01   1.00000000e+00]\n",
      " [  2.76470588e-01   9.38988361e-01   8.19740483e-01   1.00000000e+00]\n",
      " [  3.86274510e-01   9.84086337e-01   7.67362681e-01   1.00000000e+00]\n",
      " [  5.03921569e-01   9.99981027e-01   7.04925547e-01   1.00000000e+00]\n",
      " [  6.13725490e-01   9.84086337e-01   6.41213315e-01   1.00000000e+00]\n",
      " [  7.23529412e-01   9.38988361e-01   5.72735140e-01   1.00000000e+00]\n",
      " [  8.33333333e-01   8.66025404e-01   5.00000000e-01   1.00000000e+00]\n",
      " [  9.43137255e-01   7.67362681e-01   4.23548513e-01   1.00000000e+00]\n",
      " [  1.00000000e+00   6.36474236e-01   3.38158275e-01   1.00000000e+00]\n",
      " [  1.00000000e+00   4.94655843e-01   2.55842778e-01   1.00000000e+00]\n",
      " [  1.00000000e+00   3.38158275e-01   1.71625679e-01   1.00000000e+00]\n",
      " [  1.00000000e+00   1.71625679e-01   8.61329395e-02   1.00000000e+00]\n",
      " [  1.00000000e+00   1.22464680e-16   6.12323400e-17   1.00000000e+00]]\n"
     ]
    }
   ],
   "source": [
    "print(colors)"
   ]
  }
 ],
 "metadata": {
  "kernelspec": {
   "display_name": "Python 3",
   "language": "python",
   "name": "python3"
  },
  "language_info": {
   "codemirror_mode": {
    "name": "ipython",
    "version": 3
   },
   "file_extension": ".py",
   "mimetype": "text/x-python",
   "name": "python",
   "nbconvert_exporter": "python",
   "pygments_lexer": "ipython3",
   "version": "3.6.1"
  }
 },
 "nbformat": 4,
 "nbformat_minor": 2
}

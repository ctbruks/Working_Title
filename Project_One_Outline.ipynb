{
 "cells": [
  {
   "cell_type": "markdown",
   "metadata": {},
   "source": [
    "### Movie Project: Working Title\n",
    "#### Tiwaa Bruks, Julie Richardson and Brendan Wiggins"
   ]
  },
  {
   "cell_type": "markdown",
   "metadata": {},
   "source": [
    "### Things to do before we answer these questions:\n",
    "* merge on the id number to get the actors\n",
    "* perform API calls to get each movies IMDb rating and the number of people who voted\n",
    "* limit movies to the last ten years\n",
    "    * then do API calls to get the IMDb rating"
   ]
  },
  {
   "cell_type": "markdown",
   "metadata": {},
   "source": [
    "### Easy questions:\n",
    "* what is the most popular genre? (popular meaning rating)\n",
    "    * do small samples\n",
    "    * bar graph of mean rating and revenue grouped by genre\n",
    "    * also maybe do a pie chart?? (even though Leo doesn't like them)\n",
    "* the most popular movie in each genre (because some movies, like action films, will always be more profitable than others)\n",
    "    * bubble plot with the x-axis genres alphabetically (and numbered), the y-axis ratings and the bubble size revenue\n",
    "    * because we need to do API calls to get the IMDb rating, we'll have to limit ourselves to movies of the last \n",
    "    ten years\n",
    "   "
   ]
  },
  {
   "cell_type": "markdown",
   "metadata": {},
   "source": [
    "### Medium Questions:\n",
    "* the most profitable director?\n",
    "    * limit to directors who have directed a certain amount of films (first sort by how many to see what's a good amount)\n",
    "* plotting revenue vs. release date (i.e. do summer movies or Christmas movies do better?)\n",
    "    * first limit it to the top 500 movies by revenue\n",
    "    * x-axis will be date ignoring year\n",
    "    * y-axis will be revenue\n",
    "    * color the dots by seasons (there are four)\n",
    "    * then we should see a dip in the height of dots for slow months like September\n",
    "    * Then if we really want to we can use calculus to sum the area under the \"curve\" caused by the top dots\n",
    "* plotting revenue vs. rating\n",
    "    * self explanatory\n",
    "    * maybe color by genre"
   ]
  },
  {
   "cell_type": "markdown",
   "metadata": {},
   "source": [
    "### Hard Questions:\n",
    "* do movies that come from books do better?\n",
    "* what about remakes?\n",
    "* what about sequels?  (we're guessing that first sequels do better than higher order sequels)\n",
    "* does the presense of a certain actor improve ratings?"
   ]
  },
  {
   "cell_type": "markdown",
   "metadata": {},
   "source": [
    " Then this is the dataset we're using: https://www.kaggle.com/rounakbanik/the-movies-dataset/data"
   ]
  },
  {
   "cell_type": "code",
   "execution_count": null,
   "metadata": {
    "collapsed": true
   },
   "outputs": [],
   "source": []
  }
 ],
 "metadata": {
  "kernelspec": {
   "display_name": "Python 3",
   "language": "python",
   "name": "python3"
  },
  "language_info": {
   "codemirror_mode": {
    "name": "ipython",
    "version": 3
   },
   "file_extension": ".py",
   "mimetype": "text/x-python",
   "name": "python",
   "nbconvert_exporter": "python",
   "pygments_lexer": "ipython3",
   "version": "3.6.3"
  }
 },
 "nbformat": 4,
 "nbformat_minor": 2
}
